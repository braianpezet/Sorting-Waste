{
 "cells": [
  {
   "cell_type": "code",
   "execution_count": 7,
   "id": "487b7cec",
   "metadata": {},
   "outputs": [
    {
     "name": "stdout",
     "output_type": "stream",
     "text": [
      "Model: \"sequential\"\n",
      "_________________________________________________________________\n",
      " Layer (type)                Output Shape              Param #   \n",
      "=================================================================\n",
      " keras_layer (KerasLayer)    (None, 1280)              2257984   \n",
      "                                                                 \n",
      " dense (Dense)               (None, 5)                 6405      \n",
      "                                                                 \n",
      "=================================================================\n",
      "Total params: 2,264,389\n",
      "Trainable params: 6,405\n",
      "Non-trainable params: 2,257,984\n",
      "_________________________________________________________________\n"
     ]
    }
   ],
   "source": [
    "\n",
    "import tensorflow as tf\n",
    "modelo = tf.keras.models.load_model('saved_model/my_model')\n",
    "\n",
    "# Check its architecture\n",
    "modelo.summary()"
   ]
  },
  {
   "cell_type": "code",
   "execution_count": 26,
   "id": "56282eb8",
   "metadata": {},
   "outputs": [],
   "source": [
    "from PIL import Image\n",
    "import requests\n",
    "from io import BytesIO\n",
    "import cv2\n",
    "import numpy as np\n",
    "\n",
    "def categorizar(url):\n",
    "  respuesta = requests.get(url)\n",
    "  img = Image.open(BytesIO(respuesta.content))\n",
    "  img = np.array(img).astype(float)/255\n",
    "\n",
    "  img = cv2.resize(img, (224,224))\n",
    "  prediccion = modelo.predict(img.reshape(-1, 224, 224, 3)) \n",
    "  for x in prediccion[0]:\n",
    "        x = round(x,5)\n",
    "        print(str(x))\n",
    "  return np.argmax(prediccion[0], axis=-1)\n",
    "\n",
    "def categorizar2(path):\n",
    "    img = Image.open(path)\n",
    "    img = np.array(img).astype(float)/255\n",
    "    img = cv2.resize(img, (224,224))\n",
    "    prediccion = modelo.predict(img.reshape(-1, 224, 224, 3))\n",
    "    for x in prediccion[0]:\n",
    "        x = '{:0.3e}'.format(x)\n",
    "        print(str(x))\n",
    "    return np.argmax(prediccion[0], axis=-1)\n",
    "\n",
    "def mostrarCategoria(nombre,window_name):\n",
    "    print(nombre)\n",
    "    font = cv2.FONT_HERSHEY_SIMPLEX\n",
    "    cv2.putText(image, nombre, (10,450), font, 3, (0, 255, 0), 2, cv2.LINE_AA)\n",
    "    cv2.imshow(window_name,image)"
   ]
  },
  {
   "cell_type": "code",
   "execution_count": 9,
   "id": "a53fa6a8",
   "metadata": {},
   "outputs": [
    {
     "name": "stdout",
     "output_type": "stream",
     "text": [
      "1/1 [==============================] - 1s 709ms/step\n",
      "0.0\n",
      "0.00274\n",
      "0.0054\n",
      "0.00158\n",
      "0.99027\n",
      "4\n"
     ]
    }
   ],
   "source": [
    "#0 = carton, 1 = vidrio, 2 = metal ,3 = papel , 4 plastico\n",
    "url = 'https://img2.rtve.es/a/5897383/?h=320'\n",
    "prediccion = categorizar (url)\n",
    "print(prediccion)"
   ]
  },
  {
   "cell_type": "code",
   "execution_count": 13,
   "id": "ec5c24a3",
   "metadata": {},
   "outputs": [],
   "source": [
    "import os\n",
    "\n",
    "\n",
    "datos = 'capturas'\n",
    "if not os.path.exists(datos):\n",
    "    print('Carpeta creada: ',datos)\n",
    "    os.makedirs(datos)\n"
   ]
  },
  {
   "cell_type": "code",
   "execution_count": 31,
   "id": "3e376492",
   "metadata": {},
   "outputs": [
    {
     "name": "stdout",
     "output_type": "stream",
     "text": [
      "Imagen guardada:/objeto_0.jpg\n",
      "1/1 [==============================] - 0s 35ms/step\n",
      "6.886e-03\n",
      "5.178e-03\n",
      "1.288e-02\n",
      "8.728e-01\n",
      "1.022e-01\n",
      "3\n",
      "papel\n"
     ]
    }
   ],
   "source": [
    "count = 0 #para contar las capturas\n",
    "capture = cv2.VideoCapture(0)\n",
    "while (capture.isOpened()):\n",
    "    k = cv2.waitKey(1);\n",
    "    ret, frame = capture.read()\n",
    "    cv2.imshow('webCam',frame)\n",
    "    if (k == ord('s')):  #s para cerrar \n",
    "        break\n",
    "    elif (k == ord('c')): #c para sacar captura\n",
    "        cv2.imwrite(datos+'/objeto_{}.jpg'.format(count),frame)\n",
    "        print('Imagen guardada:'+'/objeto_{}.jpg'.format(count))\n",
    "        \n",
    "        ##captura\n",
    "        path = datos+'/objeto_{}.jpg'.format(count)\n",
    "        resultado = categorizar2(path)\n",
    "        print (resultado)\n",
    "        image = cv2.imread(path)\n",
    "        window_name = 'image'\n",
    "        if resultado == 0:\n",
    "            mostrarCategoria(\"carton\",window_name)\n",
    "        elif resultado == 1:\n",
    "            mostrarCategoria(\"vidrio\",window_name)\n",
    "        elif resultado == 2:\n",
    "           mostrarCategoria(\"metal\",window_name)\n",
    "        elif resultado == 3:\n",
    "           mostrarCategoria(\"papel\",window_name)\n",
    "        elif resultado == 4:\n",
    "            mostrarCategoria(\"plastico\",window_name)\n",
    "        count+=1\n",
    "        \n",
    "        \n",
    "\n",
    "\n",
    "capture.release()\n",
    "cv2.destroyAllWindows()\n"
   ]
  },
  {
   "cell_type": "code",
   "execution_count": null,
   "id": "371e574c",
   "metadata": {},
   "outputs": [],
   "source": []
  },
  {
   "cell_type": "code",
   "execution_count": null,
   "id": "06239424",
   "metadata": {},
   "outputs": [],
   "source": []
  }
 ],
 "metadata": {
  "kernelspec": {
   "display_name": "Python 3 (ipykernel)",
   "language": "python",
   "name": "python3"
  },
  "language_info": {
   "codemirror_mode": {
    "name": "ipython",
    "version": 3
   },
   "file_extension": ".py",
   "mimetype": "text/x-python",
   "name": "python",
   "nbconvert_exporter": "python",
   "pygments_lexer": "ipython3",
   "version": "3.9.7"
  }
 },
 "nbformat": 4,
 "nbformat_minor": 5
}
