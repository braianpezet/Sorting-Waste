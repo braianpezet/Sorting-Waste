{
 "cells": [
  {
   "cell_type": "code",
   "execution_count": 7,
   "id": "487b7cec",
   "metadata": {},
   "outputs": [
    {
     "name": "stdout",
     "output_type": "stream",
     "text": [
      "Model: \"sequential\"\n",
      "_________________________________________________________________\n",
      " Layer (type)                Output Shape              Param #   \n",
      "=================================================================\n",
      " keras_layer (KerasLayer)    (None, 1280)              2257984   \n",
      "                                                                 \n",
      " dense (Dense)               (None, 5)                 6405      \n",
      "                                                                 \n",
      "=================================================================\n",
      "Total params: 2,264,389\n",
      "Trainable params: 6,405\n",
      "Non-trainable params: 2,257,984\n",
      "_________________________________________________________________\n"
     ]
    }
   ],
   "source": [
    "\n",
    "import tensorflow as tf\n",
    "modelo = tf.keras.models.load_model('saved_model/my_model')\n",
    "\n",
    "# Check its architecture\n",
    "modelo.summary()"
   ]
  },
  {
   "cell_type": "code",
   "execution_count": 14,
   "id": "56282eb8",
   "metadata": {},
   "outputs": [],
   "source": [
    "from PIL import Image\n",
    "import requests\n",
    "from io import BytesIO\n",
    "import cv2\n",
    "import numpy as np\n",
    "\n",
    "def categorizar(url):\n",
    "  respuesta = requests.get(url)\n",
    "  img = Image.open(BytesIO(respuesta.content))\n",
    "  img = np.array(img).astype(float)/255\n",
    "\n",
    "  img = cv2.resize(img, (224,224))\n",
    "  prediccion = modelo.predict(img.reshape(-1, 224, 224, 3)) \n",
    "  for x in prediccion[0]:\n",
    "        x = round(x,5)\n",
    "        print(str(x))\n",
    "  return np.argmax(prediccion[0], axis=-1)\n",
    "\n",
    "def categorizar2(path):\n",
    "    img = Image.open(path)\n",
    "    img = np.array(img).astype(float)/255\n",
    "    img = cv2.resize(img, (224,224))\n",
    "    prediccion = modelo.predict(img.reshape(-1, 224, 224, 3))\n",
    "    for x in prediccion[0]:\n",
    "        print(str(x))\n",
    "    return np.argmax(prediccion[0], axis=-1)\n",
    "\n",
    "def mostrarCategoria(nombre,window_name):\n",
    "    print(nombre)\n",
    "    font = cv2.FONT_HERSHEY_SIMPLEX\n",
    "    cv2.putText(image, nombre, (10,450), font, 3, (0, 255, 0), 2, cv2.LINE_AA)\n",
    "    cv2.imshow(window_name,image)"
   ]
  },
  {
   "cell_type": "code",
   "execution_count": 15,
   "id": "a53fa6a8",
   "metadata": {},
   "outputs": [
    {
     "name": "stdout",
     "output_type": "stream",
     "text": [
      "0.0\n",
      "0.00324\n",
      "0.00558\n",
      "0.00126\n",
      "0.98991\n",
      "4\n"
     ]
    }
   ],
   "source": [
    "#0 = carton, 1 = vidrio, 2 = metal ,3 = papel , 4 plastico\n",
    "url = 'https://img2.rtve.es/a/5897383/?h=320'\n",
    "prediccion = categorizar (url)\n",
    "print(prediccion)"
   ]
  },
  {
   "cell_type": "code",
   "execution_count": 16,
   "id": "ec5c24a3",
   "metadata": {},
   "outputs": [],
   "source": [
    "import os\n",
    "\n",
    "\n",
    "datos = 'capturas'\n",
    "if not os.path.exists(datos):\n",
    "    print('Carpeta creada: ',datos)\n",
    "    os.makedirs(datos)\n"
   ]
  },
  {
   "cell_type": "code",
   "execution_count": 18,
   "id": "3e376492",
   "metadata": {},
   "outputs": [
    {
     "name": "stdout",
     "output_type": "stream",
     "text": [
      "Imagen guardada:/objeto_0.jpg\n",
      "0.59222966\n",
      "0.0010060315\n",
      "0.053231925\n",
      "0.353519\n",
      "1.3311404e-05\n",
      "0\n",
      "carton\n"
     ]
    }
   ],
   "source": [
    "count = 0 #para contar las capturas\n",
    "capture = cv2.VideoCapture(0)\n",
    "while (capture.isOpened()):\n",
    "    k = cv2.waitKey(1);\n",
    "    ret, frame = capture.read()\n",
    "    cv2.imshow('webCam',frame)\n",
    "    if (k == ord('s')):  #s para cerrar \n",
    "        break\n",
    "    elif (k == ord('c')): #c para sacar captura\n",
    "        cv2.imwrite(datos+'/objeto_{}.jpg'.format(count),frame)\n",
    "        print('Imagen guardada:'+'/objeto_{}.jpg'.format(count))\n",
    "        \n",
    "        ##captura\n",
    "        path = datos+'/objeto_{}.jpg'.format(count)\n",
    "        resultado = categorizar2(path)\n",
    "        print (resultado)\n",
    "        image = cv2.imread(path)\n",
    "        window_name = 'image'\n",
    "        if resultado == 0:\n",
    "            mostrarCategoria(\"carton\",window_name)\n",
    "        elif resultado == 1:\n",
    "            mostrarCategoria(\"vidrio\",window_name)\n",
    "        elif resultado == 2:\n",
    "           mostrarCategoria(\"metal\",window_name)\n",
    "        elif resultado == 3:\n",
    "           mostrarCategoria(\"papel\",window_name)\n",
    "        elif resultado == 4:\n",
    "            mostrarCategoria(\"plastico\",window_name)\n",
    "        count+=1\n",
    "        \n",
    "        \n",
    "\n",
    "\n",
    "capture.release()\n",
    "cv2.destroyAllWindows()\n"
   ]
  },
  {
   "cell_type": "code",
   "execution_count": 29,
   "id": "371e574c",
   "metadata": {},
   "outputs": [
    {
     "ename": "ValueError",
     "evalue": "in user code:\n\n    File \"C:\\Users\\braianpezet\\anaconda3\\lib\\site-packages\\keras\\engine\\training.py\", line 1801, in predict_function  *\n        return step_function(self, iterator)\n    File \"C:\\Users\\braianpezet\\anaconda3\\lib\\site-packages\\keras\\engine\\training.py\", line 1790, in step_function  **\n        outputs = model.distribute_strategy.run(run_step, args=(data,))\n    File \"C:\\Users\\braianpezet\\anaconda3\\lib\\site-packages\\keras\\engine\\training.py\", line 1783, in run_step  **\n        outputs = model.predict_step(data)\n    File \"C:\\Users\\braianpezet\\anaconda3\\lib\\site-packages\\keras\\engine\\training.py\", line 1751, in predict_step\n        return self(x, training=False)\n    File \"C:\\Users\\braianpezet\\anaconda3\\lib\\site-packages\\keras\\utils\\traceback_utils.py\", line 67, in error_handler\n        raise e.with_traceback(filtered_tb) from None\n    File \"C:\\Users\\braianpezet\\anaconda3\\lib\\site-packages\\keras\\engine\\input_spec.py\", line 264, in assert_input_compatibility\n        raise ValueError(f'Input {input_index} of layer \"{layer_name}\" is '\n\n    ValueError: Input 0 of layer \"sequential\" is incompatible with the layer: expected shape=(None, 224, 224, 3), found shape=(32, None, 3)\n",
     "output_type": "error",
     "traceback": [
      "\u001b[1;31m---------------------------------------------------------------------------\u001b[0m",
      "\u001b[1;31mValueError\u001b[0m                                Traceback (most recent call last)",
      "\u001b[1;32mC:\\Users\\BRAIAN~1\\AppData\\Local\\Temp/ipykernel_10444/1742988523.py\u001b[0m in \u001b[0;36m<module>\u001b[1;34m\u001b[0m\n\u001b[0;32m     11\u001b[0m         \u001b[1;31m# Realizar la inferencia usando el modelo\u001b[0m\u001b[1;33m\u001b[0m\u001b[1;33m\u001b[0m\u001b[0m\n\u001b[0;32m     12\u001b[0m \u001b[1;33m\u001b[0m\u001b[0m\n\u001b[1;32m---> 13\u001b[1;33m         \u001b[0mresult\u001b[0m \u001b[1;33m=\u001b[0m \u001b[0mmodelo\u001b[0m\u001b[1;33m.\u001b[0m\u001b[0mpredict\u001b[0m\u001b[1;33m(\u001b[0m\u001b[0mcv2\u001b[0m\u001b[1;33m.\u001b[0m\u001b[0mresize\u001b[0m\u001b[1;33m(\u001b[0m\u001b[0mframe\u001b[0m\u001b[1;33m,\u001b[0m \u001b[1;33m(\u001b[0m\u001b[1;36m224\u001b[0m\u001b[1;33m,\u001b[0m \u001b[1;36m224\u001b[0m\u001b[1;33m)\u001b[0m\u001b[1;33m)\u001b[0m\u001b[1;33m)\u001b[0m\u001b[1;33m\u001b[0m\u001b[1;33m\u001b[0m\u001b[0m\n\u001b[0m\u001b[0;32m     14\u001b[0m \u001b[1;33m\u001b[0m\u001b[0m\n\u001b[0;32m     15\u001b[0m         \u001b[1;31m# Procesar el resultado de la inferencia\u001b[0m\u001b[1;33m\u001b[0m\u001b[1;33m\u001b[0m\u001b[0m\n",
      "\u001b[1;32m~\\anaconda3\\lib\\site-packages\\keras\\utils\\traceback_utils.py\u001b[0m in \u001b[0;36merror_handler\u001b[1;34m(*args, **kwargs)\u001b[0m\n\u001b[0;32m     65\u001b[0m     \u001b[1;32mexcept\u001b[0m \u001b[0mException\u001b[0m \u001b[1;32mas\u001b[0m \u001b[0me\u001b[0m\u001b[1;33m:\u001b[0m  \u001b[1;31m# pylint: disable=broad-except\u001b[0m\u001b[1;33m\u001b[0m\u001b[1;33m\u001b[0m\u001b[0m\n\u001b[0;32m     66\u001b[0m       \u001b[0mfiltered_tb\u001b[0m \u001b[1;33m=\u001b[0m \u001b[0m_process_traceback_frames\u001b[0m\u001b[1;33m(\u001b[0m\u001b[0me\u001b[0m\u001b[1;33m.\u001b[0m\u001b[0m__traceback__\u001b[0m\u001b[1;33m)\u001b[0m\u001b[1;33m\u001b[0m\u001b[1;33m\u001b[0m\u001b[0m\n\u001b[1;32m---> 67\u001b[1;33m       \u001b[1;32mraise\u001b[0m \u001b[0me\u001b[0m\u001b[1;33m.\u001b[0m\u001b[0mwith_traceback\u001b[0m\u001b[1;33m(\u001b[0m\u001b[0mfiltered_tb\u001b[0m\u001b[1;33m)\u001b[0m \u001b[1;32mfrom\u001b[0m \u001b[1;32mNone\u001b[0m\u001b[1;33m\u001b[0m\u001b[1;33m\u001b[0m\u001b[0m\n\u001b[0m\u001b[0;32m     68\u001b[0m     \u001b[1;32mfinally\u001b[0m\u001b[1;33m:\u001b[0m\u001b[1;33m\u001b[0m\u001b[1;33m\u001b[0m\u001b[0m\n\u001b[0;32m     69\u001b[0m       \u001b[1;32mdel\u001b[0m \u001b[0mfiltered_tb\u001b[0m\u001b[1;33m\u001b[0m\u001b[1;33m\u001b[0m\u001b[0m\n",
      "\u001b[1;32m~\\anaconda3\\lib\\site-packages\\tensorflow\\python\\framework\\func_graph.py\u001b[0m in \u001b[0;36mautograph_handler\u001b[1;34m(*args, **kwargs)\u001b[0m\n\u001b[0;32m   1145\u001b[0m           \u001b[1;32mexcept\u001b[0m \u001b[0mException\u001b[0m \u001b[1;32mas\u001b[0m \u001b[0me\u001b[0m\u001b[1;33m:\u001b[0m  \u001b[1;31m# pylint:disable=broad-except\u001b[0m\u001b[1;33m\u001b[0m\u001b[1;33m\u001b[0m\u001b[0m\n\u001b[0;32m   1146\u001b[0m             \u001b[1;32mif\u001b[0m \u001b[0mhasattr\u001b[0m\u001b[1;33m(\u001b[0m\u001b[0me\u001b[0m\u001b[1;33m,\u001b[0m \u001b[1;34m\"ag_error_metadata\"\u001b[0m\u001b[1;33m)\u001b[0m\u001b[1;33m:\u001b[0m\u001b[1;33m\u001b[0m\u001b[1;33m\u001b[0m\u001b[0m\n\u001b[1;32m-> 1147\u001b[1;33m               \u001b[1;32mraise\u001b[0m \u001b[0me\u001b[0m\u001b[1;33m.\u001b[0m\u001b[0mag_error_metadata\u001b[0m\u001b[1;33m.\u001b[0m\u001b[0mto_exception\u001b[0m\u001b[1;33m(\u001b[0m\u001b[0me\u001b[0m\u001b[1;33m)\u001b[0m\u001b[1;33m\u001b[0m\u001b[1;33m\u001b[0m\u001b[0m\n\u001b[0m\u001b[0;32m   1148\u001b[0m             \u001b[1;32melse\u001b[0m\u001b[1;33m:\u001b[0m\u001b[1;33m\u001b[0m\u001b[1;33m\u001b[0m\u001b[0m\n\u001b[0;32m   1149\u001b[0m               \u001b[1;32mraise\u001b[0m\u001b[1;33m\u001b[0m\u001b[1;33m\u001b[0m\u001b[0m\n",
      "\u001b[1;31mValueError\u001b[0m: in user code:\n\n    File \"C:\\Users\\braianpezet\\anaconda3\\lib\\site-packages\\keras\\engine\\training.py\", line 1801, in predict_function  *\n        return step_function(self, iterator)\n    File \"C:\\Users\\braianpezet\\anaconda3\\lib\\site-packages\\keras\\engine\\training.py\", line 1790, in step_function  **\n        outputs = model.distribute_strategy.run(run_step, args=(data,))\n    File \"C:\\Users\\braianpezet\\anaconda3\\lib\\site-packages\\keras\\engine\\training.py\", line 1783, in run_step  **\n        outputs = model.predict_step(data)\n    File \"C:\\Users\\braianpezet\\anaconda3\\lib\\site-packages\\keras\\engine\\training.py\", line 1751, in predict_step\n        return self(x, training=False)\n    File \"C:\\Users\\braianpezet\\anaconda3\\lib\\site-packages\\keras\\utils\\traceback_utils.py\", line 67, in error_handler\n        raise e.with_traceback(filtered_tb) from None\n    File \"C:\\Users\\braianpezet\\anaconda3\\lib\\site-packages\\keras\\engine\\input_spec.py\", line 264, in assert_input_compatibility\n        raise ValueError(f'Input {input_index} of layer \"{layer_name}\" is '\n\n    ValueError: Input 0 of layer \"sequential\" is incompatible with the layer: expected shape=(None, 224, 224, 3), found shape=(32, None, 3)\n"
     ]
    }
   ],
   "source": [
    "# Abrir el vídeo\n",
    "video = cv2.VideoCapture(0)\n",
    "\n",
    "# Leer el vídeo frame a frame\n",
    "while video.isOpened():\n",
    "    # Leer el siguiente frame\n",
    "    success, frame = video.read()\n",
    "\n",
    "    # Si el frame se leyó correctamente\n",
    "    if success:\n",
    "        # Realizar la inferencia usando el modelo\n",
    "        \n",
    "        frame = cv2.resize(frame, (224, 224))\n",
    "        predictions = model.predict(x)\n",
    "\n",
    "        # Procesar el resultado de la inferencia\n",
    "        # (puedes usar el resultado para dibujar etiquetas\n",
    "        # en el frame, calcular métricas, etc.)\n",
    "        process_result(result, frame)\n",
    "\n",
    "        # Mostrar el frame en una ventana (si lo deseas)\n",
    "        cv2.imshow('Video', frame)\n",
    "\n",
    "        # Si se presiona la tecla 'q', detener la reproducción\n",
    "        if cv2.waitKey(1) & 0xFF == ord('q'):\n",
    "            break\n",
    "    # Si no se pudo leer el frame, detener la reproducción\n",
    "    else:\n",
    "        break\n",
    "\n",
    "# Liberar los recursos utilizados\n",
    "video.release()\n",
    "cv2.destroyAllWindows()\n"
   ]
  },
  {
   "cell_type": "code",
   "execution_count": null,
   "id": "06239424",
   "metadata": {},
   "outputs": [],
   "source": []
  }
 ],
 "metadata": {
  "kernelspec": {
   "display_name": "Python 3 (ipykernel)",
   "language": "python",
   "name": "python3"
  },
  "language_info": {
   "codemirror_mode": {
    "name": "ipython",
    "version": 3
   },
   "file_extension": ".py",
   "mimetype": "text/x-python",
   "name": "python",
   "nbconvert_exporter": "python",
   "pygments_lexer": "ipython3",
   "version": "3.9.7"
  }
 },
 "nbformat": 4,
 "nbformat_minor": 5
}
