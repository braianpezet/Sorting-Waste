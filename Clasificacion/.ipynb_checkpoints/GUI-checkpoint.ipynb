{
 "cells": [
  {
   "cell_type": "code",
   "execution_count": 1,
   "id": "cb476d2d",
   "metadata": {},
   "outputs": [
    {
     "name": "stdout",
     "output_type": "stream",
     "text": [
      "Model: \"sequential\"\n",
      "_________________________________________________________________\n",
      " Layer (type)                Output Shape              Param #   \n",
      "=================================================================\n",
      " keras_layer (KerasLayer)    (None, 1280)              2257984   \n",
      "                                                                 \n",
      " dense (Dense)               (None, 5)                 6405      \n",
      "                                                                 \n",
      "=================================================================\n",
      "Total params: 2264389 (8.64 MB)\n",
      "Trainable params: 6405 (25.02 KB)\n",
      "Non-trainable params: 2257984 (8.61 MB)\n",
      "_________________________________________________________________\n"
     ]
    }
   ],
   "source": [
    "import tensorflow as tf\n",
    "modelo = tf.keras.models.load_model('saved_model/my_model')\n",
    "\n",
    "# Check its architecture\n",
    "modelo.summary()"
   ]
  },
  {
   "cell_type": "code",
   "execution_count": 2,
   "id": "d59d0bfd",
   "metadata": {},
   "outputs": [],
   "source": [
    "from PIL import Image\n",
    "import requests\n",
    "from io import BytesIO\n",
    "import cv2\n",
    "import numpy as np\n",
    "\n",
    "def categorizar(url):\n",
    "  respuesta = requests.get(url)\n",
    "  img = Image.open(BytesIO(respuesta.content))\n",
    "  img = np.array(img).astype(float)/255\n",
    "\n",
    "  img = cv2.resize(img, (224,224))\n",
    "  prediccion = modelo.predict(img.reshape(-1, 224, 224, 3)) \n",
    "  for x in prediccion[0]:\n",
    "        x = round(x,5)\n",
    "        print(str(x))\n",
    "  return np.argmax(prediccion[0], axis=-1)\n",
    "\n",
    "def categorizar2(path):\n",
    "    img = Image.open(path)\n",
    "    img = np.array(img).astype(float)/255\n",
    "    img = cv2.resize(img, (224,224))\n",
    "    prediccion = modelo.predict(img.reshape(-1, 224, 224, 3))\n",
    "    for x in prediccion[0]:\n",
    "        x = '{:0.3e}'.format(x)\n",
    "        print(str(x))\n",
    "    return np.argmax(prediccion[0], axis=-1)\n",
    "\n",
    "def mostrarCategoria(nombre,window_name):\n",
    "    print(nombre)\n",
    "    font = cv2.FONT_HERSHEY_SIMPLEX\n",
    "    cv2.putText(image, nombre, (10,450), font, 3, (0, 255, 0), 2, cv2.LINE_AA)\n",
    "    cv2.imshow(window_name,image)\n",
    "def mostrarImagenCategoria(path):\n",
    "    imagen = PhotoImage(file = path)\n",
    "    tacho.config(image=imagen)\n",
    "    tacho.image = imagen\n",
    "    \n"
   ]
  },
  {
   "cell_type": "code",
   "execution_count": 3,
   "id": "142cc13d",
   "metadata": {},
   "outputs": [
    {
     "name": "stdout",
     "output_type": "stream",
     "text": [
      "Carpeta creada:  capturas\n"
     ]
    }
   ],
   "source": [
    "import os\n",
    "\n",
    "\n",
    "datos = 'capturas'\n",
    "if not os.path.exists(datos):\n",
    "    print('Carpeta creada: ',datos)\n",
    "    os.makedirs(datos)"
   ]
  },
  {
   "cell_type": "code",
   "execution_count": 9,
   "id": "5fb1589c",
   "metadata": {
    "scrolled": true
   },
   "outputs": [
    {
     "name": "stdout",
     "output_type": "stream",
     "text": [
      "Imagen guardada:/objeto_0.jpg\n",
      "1/1 [==============================] - 0s 39ms/step\n",
      "3.701e-03\n",
      "8.139e-04\n",
      "2.474e-03\n",
      "9.930e-01\n",
      "2.618e-05\n",
      "3\n",
      "Imagen guardada:/objeto_1.jpg\n",
      "1/1 [==============================] - 0s 39ms/step\n",
      "1.207e-04\n",
      "6.664e-01\n",
      "4.022e-04\n",
      "9.594e-04\n",
      "3.321e-01\n",
      "1\n"
     ]
    },
    {
     "name": "stderr",
     "output_type": "stream",
     "text": [
      "Exception in Tkinter callback\n",
      "Traceback (most recent call last):\n",
      "  File \"C:\\Users\\braianpezet\\anaconda3\\Lib\\tkinter\\__init__.py\", line 1948, in __call__\n",
      "    return self.func(*args)\n",
      "           ^^^^^^^^^^^^^^^^\n",
      "  File \"C:\\Users\\braianpezet\\AppData\\Local\\Temp\\ipykernel_4024\\3115904958.py\", line 24, in boton\n",
      "    mostrarCategoria(\"./Tkinter/vidrio.png\")\n",
      "TypeError: mostrarCategoria() missing 1 required positional argument: 'window_name'\n"
     ]
    },
    {
     "name": "stdout",
     "output_type": "stream",
     "text": [
      "Imagen guardada:/objeto_1.jpg\n",
      "1/1 [==============================] - 0s 47ms/step\n",
      "1.939e-04\n",
      "7.367e-01\n",
      "4.362e-04\n",
      "8.147e-04\n",
      "2.618e-01\n",
      "1\n"
     ]
    },
    {
     "name": "stderr",
     "output_type": "stream",
     "text": [
      "Exception in Tkinter callback\n",
      "Traceback (most recent call last):\n",
      "  File \"C:\\Users\\braianpezet\\anaconda3\\Lib\\tkinter\\__init__.py\", line 1948, in __call__\n",
      "    return self.func(*args)\n",
      "           ^^^^^^^^^^^^^^^^\n",
      "  File \"C:\\Users\\braianpezet\\AppData\\Local\\Temp\\ipykernel_4024\\3115904958.py\", line 24, in boton\n",
      "    mostrarCategoria(\"./Tkinter/vidrio.png\")\n",
      "TypeError: mostrarCategoria() missing 1 required positional argument: 'window_name'\n"
     ]
    }
   ],
   "source": [
    "\n",
    "# Importamos librerias\n",
    "from tkinter import *\n",
    "from PIL import Image, ImageTk\n",
    "import cv2\n",
    "import imutils\n",
    "import numpy as np\n",
    "\n",
    "global lblVideo , cap\n",
    "global count\n",
    "\n",
    "count = 0\n",
    "frame = None\n",
    "\n",
    "def boton():\n",
    "    global count,frame \n",
    "    cv2.imwrite(datos+'/objeto_{}.jpg'.format(count),frame) ##Se guarda captura en carpeta capturas\n",
    "    print('Imagen guardada:'+'/objeto_{}.jpg'.format(count))\n",
    "    path = datos+'/objeto_{}.jpg'.format(count) ## ruta de la captura\n",
    "    resultado = categorizar2(path) ## devuelve la predicción\n",
    "    print (resultado) ## imprimo resultado\n",
    "    if resultado == 0:\n",
    "        mostrarImagenCategoria(\"./Tkinter/papel.png\")\n",
    "    elif resultado == 1:\n",
    "        mostrarImagenCategoria(\"./Tkinter/vidrio.png\")\n",
    "    elif resultado == 2:\n",
    "        mostrarImagenCategoria(\"./Tkinter/metal.png\")\n",
    "    elif resultado == 3:\n",
    "        mostrarImagenCategoria(\"./Tkinter/papel.png\")\n",
    "    elif resultado == 4:\n",
    "        mostrarImagenCategoria(\"./Tkinter/plastico.png\")\n",
    "    count+=1 ##Se incrementa el valor de contador que se utiliza para no sobreescrivir las imagenes\n",
    "\n",
    "\n",
    "def visualizar():\n",
    "    if cap is not None:\n",
    "        global frame\n",
    "        ret, frame = cap.read(1)\n",
    "        if ret == True:\n",
    "            frame = imutils.resize(frame, width=640)\n",
    "            # Convertimos el video\n",
    "            frame_show =cv2.cvtColor(frame, cv2.COLOR_BGR2RGB)\n",
    "            im = Image.fromarray(frame_show)\n",
    "            img = ImageTk.PhotoImage(image=im)\n",
    "\n",
    "            # Mostramos en el GUI\n",
    "            lblVideo.configure(image=img)\n",
    "            lblVideo.image = img\n",
    "            lblVideo.after(10, visualizar)\n",
    "        else:\n",
    "            lblVideo.image = \"\"\n",
    "            cap.release()\n",
    "\n",
    "            \n",
    "#Variables globales\n",
    "global tacho #variable global para mostrar el tacho segun el tipo de residuo \n",
    "\n",
    "#Parametros iniciales\n",
    "pantalla = Tk()\n",
    "pantalla.title(\"CLASIFICADOR AUTOMATICA DE RESIDUOS\")\n",
    "pantalla.geometry(\"1280x720\")\n",
    "\n",
    "#fondo\n",
    "background = PhotoImage(file = \"./Tkinter/SortingWaste.png\")\n",
    "background_label = Label(image=background, text=\"fondo\")\n",
    "background_label.place(x=0, y=0, relwidth=1, relheight=1)\n",
    "\n",
    "#btn\n",
    "imagebtn1 = PhotoImage(file = \"./Tkinter/Predecir.png\")\n",
    "btn1 = Button(pantalla, text=\"RGB\", image= imagebtn1, height=\"40\", width=\"200\", command=boton)\n",
    "btn1.place(x = 980, y = 600)\n",
    "\n",
    "# Lavel de video\n",
    "lblVideo = Label(pantalla)\n",
    "lblVideo.place(x = 350, y = 150)\n",
    "\n",
    "#webcam\n",
    "cap = cv2.VideoCapture(0,cv2.CAP_DSHOW)\n",
    "cap.set(3, 640)\n",
    "cap.set(4, 480)\n",
    "\n",
    "##tacho segun tipo de residuo\n",
    "tacho = Label(pantalla) #configuro de forma generica para luego actualizar en funcion con el metodo config\n",
    "tacho.place(x=75, y=260)\n",
    "\n",
    "\n",
    "visualizar()\n",
    "pantalla.mainloop()"
   ]
  },
  {
   "cell_type": "code",
   "execution_count": null,
   "id": "dda3bbb8",
   "metadata": {},
   "outputs": [],
   "source": []
  }
 ],
 "metadata": {
  "kernelspec": {
   "display_name": "Python 3 (ipykernel)",
   "language": "python",
   "name": "python3"
  },
  "language_info": {
   "codemirror_mode": {
    "name": "ipython",
    "version": 3
   },
   "file_extension": ".py",
   "mimetype": "text/x-python",
   "name": "python",
   "nbconvert_exporter": "python",
   "pygments_lexer": "ipython3",
   "version": "3.11.4"
  }
 },
 "nbformat": 4,
 "nbformat_minor": 5
}
